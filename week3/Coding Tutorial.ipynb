{
 "cells": [
  {
   "cell_type": "code",
   "execution_count": 1,
   "metadata": {
    "scrolled": true
   },
   "outputs": [
    {
     "name": "stdout",
     "output_type": "stream",
     "text": [
      "2.0.0\n"
     ]
    }
   ],
   "source": [
    "import tensorflow as tf\n",
    "print(tf.__version__)"
   ]
  },
  {
   "cell_type": "markdown",
   "metadata": {},
   "source": [
    "# Validation, regularisation and callbacks"
   ]
  },
  {
   "cell_type": "markdown",
   "metadata": {},
   "source": [
    " ## Coding tutorials\n",
    " #### [1. Validation sets](#coding_tutorial_1)\n",
    " #### [2. Model regularisation](#coding_tutorial_2)\n",
    " #### [3. Introduction to callbacks](#coding_tutorial_3)\n",
    " #### [4. Early stopping / patience](#coding_tutorial_4)"
   ]
  },
  {
   "cell_type": "markdown",
   "metadata": {},
   "source": [
    "***\n",
    "<a id=\"coding_tutorial_1\"></a>\n",
    "## Validation sets"
   ]
  },
  {
   "cell_type": "markdown",
   "metadata": {},
   "source": [
    "#### Load the data"
   ]
  },
  {
   "cell_type": "code",
   "execution_count": 2,
   "metadata": {},
   "outputs": [
    {
     "name": "stdout",
     "output_type": "stream",
     "text": [
      ".. _diabetes_dataset:\n",
      "\n",
      "Diabetes dataset\n",
      "----------------\n",
      "\n",
      "Ten baseline variables, age, sex, body mass index, average blood\n",
      "pressure, and six blood serum measurements were obtained for each of n =\n",
      "442 diabetes patients, as well as the response of interest, a\n",
      "quantitative measure of disease progression one year after baseline.\n",
      "\n",
      "**Data Set Characteristics:**\n",
      "\n",
      "  :Number of Instances: 442\n",
      "\n",
      "  :Number of Attributes: First 10 columns are numeric predictive values\n",
      "\n",
      "  :Target: Column 11 is a quantitative measure of disease progression one year after baseline\n",
      "\n",
      "  :Attribute Information:\n",
      "      - Age\n",
      "      - Sex\n",
      "      - Body mass index\n",
      "      - Average blood pressure\n",
      "      - S1\n",
      "      - S2\n",
      "      - S3\n",
      "      - S4\n",
      "      - S5\n",
      "      - S6\n",
      "\n",
      "Note: Each of these 10 feature variables have been mean centered and scaled by the standard deviation times `n_samples` (i.e. the sum of squares of each column totals 1).\n",
      "\n",
      "Source URL:\n",
      "http://www4.stat.ncsu.edu/~boos/var.select/diabetes.html\n",
      "\n",
      "For more information see:\n",
      "Bradley Efron, Trevor Hastie, Iain Johnstone and Robert Tibshirani (2004) \"Least Angle Regression,\" Annals of Statistics (with discussion), 407-499.\n",
      "(http://web.stanford.edu/~hastie/Papers/LARS/LeastAngle_2002.pdf)\n"
     ]
    }
   ],
   "source": [
    "# Load the diabetes dataset\n",
    "\n",
    "from sklearn.datasets import load_diabetes\n",
    "\n",
    "diabetes_dataset = load_diabetes()  # returns a dictionary of dataset\n",
    "print(diabetes_dataset['DESCR'])  # description of the dataset"
   ]
  },
  {
   "cell_type": "code",
   "execution_count": 3,
   "metadata": {},
   "outputs": [
    {
     "name": "stdout",
     "output_type": "stream",
     "text": [
      "dict_keys(['data', 'target', 'DESCR', 'feature_names', 'data_filename', 'target_filename'])\n"
     ]
    }
   ],
   "source": [
    "# Save the input and target variables\n",
    "\n",
    "print(diabetes_dataset.keys())\n",
    "data = diabetes_dataset['data']\n",
    "targets = diabetes_dataset['target']"
   ]
  },
  {
   "cell_type": "code",
   "execution_count": 4,
   "metadata": {},
   "outputs": [
    {
     "name": "stdout",
     "output_type": "stream",
     "text": [
      "Initially targets are\n",
      "[151.  75. 141. 206. 135.  97. 138.  63. 110. 310. 101.  69. 179. 185.\n",
      " 118. 171. 166. 144.  97. 168.  68.  49.  68. 245. 184. 202. 137.  85.\n",
      " 131. 283. 129.  59. 341.  87.  65. 102. 265. 276. 252.  90. 100.  55.\n",
      "  61.  92. 259.  53. 190. 142.  75. 142. 155. 225.  59. 104. 182. 128.\n",
      "  52.  37. 170. 170.  61. 144.  52. 128.  71. 163. 150.  97. 160. 178.\n",
      "  48. 270. 202. 111.  85.  42. 170. 200. 252. 113. 143.  51.  52. 210.\n",
      "  65. 141.  55. 134.  42. 111.  98. 164.  48.  96.  90. 162. 150. 279.\n",
      "  92.  83. 128. 102. 302. 198.  95.  53. 134. 144. 232.  81. 104.  59.\n",
      " 246. 297. 258. 229. 275. 281. 179. 200. 200. 173. 180.  84. 121. 161.\n",
      "  99. 109. 115. 268. 274. 158. 107.  83. 103. 272.  85. 280. 336. 281.\n",
      " 118. 317. 235.  60. 174. 259. 178. 128.  96. 126. 288.  88. 292.  71.\n",
      " 197. 186.  25.  84.  96. 195.  53. 217. 172. 131. 214.  59.  70. 220.\n",
      " 268. 152.  47.  74. 295. 101. 151. 127. 237. 225.  81. 151. 107.  64.\n",
      " 138. 185. 265. 101. 137. 143. 141.  79. 292. 178.  91. 116.  86. 122.\n",
      "  72. 129. 142.  90. 158.  39. 196. 222. 277.  99. 196. 202. 155.  77.\n",
      " 191.  70.  73.  49.  65. 263. 248. 296. 214. 185.  78.  93. 252. 150.\n",
      "  77. 208.  77. 108. 160.  53. 220. 154. 259.  90. 246. 124.  67.  72.\n",
      " 257. 262. 275. 177.  71.  47. 187. 125.  78.  51. 258. 215. 303. 243.\n",
      "  91. 150. 310. 153. 346.  63.  89.  50.  39. 103. 308. 116. 145.  74.\n",
      "  45. 115. 264.  87. 202. 127. 182. 241.  66.  94. 283.  64. 102. 200.\n",
      " 265.  94. 230. 181. 156. 233.  60. 219.  80.  68. 332. 248.  84. 200.\n",
      "  55.  85.  89.  31. 129.  83. 275.  65. 198. 236. 253. 124.  44. 172.\n",
      " 114. 142. 109. 180. 144. 163. 147.  97. 220. 190. 109. 191. 122. 230.\n",
      " 242. 248. 249. 192. 131. 237.  78. 135. 244. 199. 270. 164.  72.  96.\n",
      " 306.  91. 214.  95. 216. 263. 178. 113. 200. 139. 139.  88. 148.  88.\n",
      " 243.  71.  77. 109. 272.  60.  54. 221.  90. 311. 281. 182. 321.  58.\n",
      " 262. 206. 233. 242. 123. 167.  63. 197.  71. 168. 140. 217. 121. 235.\n",
      " 245.  40.  52. 104. 132.  88.  69. 219.  72. 201. 110.  51. 277.  63.\n",
      " 118.  69. 273. 258.  43. 198. 242. 232. 175.  93. 168. 275. 293. 281.\n",
      "  72. 140. 189. 181. 209. 136. 261. 113. 131. 174. 257.  55.  84.  42.\n",
      " 146. 212. 233.  91. 111. 152. 120.  67. 310.  94. 183.  66. 173.  72.\n",
      "  49.  64.  48. 178. 104. 132. 220.  57.]\n",
      "After normalization\n",
      "[-1.47194752e-02 -1.00165882e+00 -1.44579915e-01  6.99512942e-01\n",
      " -2.22496178e-01 -7.15965848e-01 -1.83538046e-01 -1.15749134e+00\n",
      " -5.47147277e-01  2.05006151e+00 -6.64021672e-01 -1.07957508e+00\n",
      "  3.48889755e-01  4.26806019e-01 -4.43258925e-01  2.45001404e-01\n",
      "  1.80071184e-01 -1.05621783e-01 -7.15965848e-01  2.06043272e-01\n",
      " -1.09256112e+00 -1.33929596e+00 -1.09256112e+00  1.20596866e+00\n",
      "  4.13819975e-01  6.47568766e-01 -1.96524090e-01 -8.71798376e-01\n",
      " -2.74440354e-01  1.69943833e+00 -3.00412442e-01 -1.20943552e+00\n",
      "  2.45262887e+00 -8.45826288e-01 -1.13151925e+00 -6.51035629e-01\n",
      "  1.46568953e+00  1.60853602e+00  1.29687096e+00 -8.06868156e-01\n",
      " -6.77007716e-01 -1.26137969e+00 -1.18346343e+00 -7.80896068e-01\n",
      "  1.38777327e+00 -1.28735178e+00  4.91736239e-01 -1.31593871e-01\n",
      " -1.00165882e+00 -1.31593871e-01  3.72247006e-02  9.46247777e-01\n",
      " -1.20943552e+00 -6.25063541e-01  3.87847887e-01 -3.13398486e-01\n",
      " -1.30033783e+00 -1.49512849e+00  2.32015360e-01  2.32015360e-01\n",
      " -1.18346343e+00 -1.05621783e-01 -1.30033783e+00 -3.13398486e-01\n",
      " -1.05360299e+00  1.41113052e-01 -2.77055191e-02 -7.15965848e-01\n",
      "  1.02154920e-01  3.35903711e-01 -1.35228200e+00  1.53061975e+00\n",
      "  6.47568766e-01 -5.34161233e-01 -8.71798376e-01 -1.43019827e+00\n",
      "  2.32015360e-01  6.21596678e-01  1.29687096e+00 -5.08189145e-01\n",
      " -1.18607827e-01 -1.31332387e+00 -1.30033783e+00  7.51457118e-01\n",
      " -1.13151925e+00 -1.44579915e-01 -1.26137969e+00 -2.35482222e-01\n",
      " -1.43019827e+00 -5.34161233e-01 -7.02979804e-01  1.54099096e-01\n",
      " -1.35228200e+00 -7.28951892e-01 -8.06868156e-01  1.28127008e-01\n",
      " -2.77055191e-02  1.64749415e+00 -7.80896068e-01 -8.97770464e-01\n",
      " -3.13398486e-01 -6.51035629e-01  1.94617316e+00  5.95624590e-01\n",
      " -7.41937936e-01 -1.28735178e+00 -2.35482222e-01 -1.05621783e-01\n",
      "  1.03715008e+00 -9.23742551e-01 -6.25063541e-01 -1.20943552e+00\n",
      "  1.21895470e+00  1.88124294e+00  1.37478723e+00  9.98191953e-01\n",
      "  1.59554997e+00  1.67346624e+00  3.48889755e-01  6.21596678e-01\n",
      "  6.21596678e-01  2.70973492e-01  3.61875799e-01 -8.84784420e-01\n",
      " -4.04300794e-01  1.15140964e-01 -6.89993760e-01 -5.60133321e-01\n",
      " -4.82217057e-01  1.50464767e+00  1.58256393e+00  7.61828325e-02\n",
      " -5.86105409e-01 -8.97770464e-01 -6.38049585e-01  1.55659184e+00\n",
      " -8.71798376e-01  1.66048019e+00  2.38769865e+00  1.67346624e+00\n",
      " -4.43258925e-01  2.14096382e+00  1.07610822e+00 -1.19644947e+00\n",
      "  2.83959536e-01  1.38777327e+00  3.35903711e-01 -3.13398486e-01\n",
      " -7.28951892e-01 -3.39370574e-01  1.76436855e+00 -8.32840244e-01\n",
      "  1.81631272e+00 -1.05360299e+00  5.82638546e-01  4.39792063e-01\n",
      " -1.65096101e+00 -8.84784420e-01 -7.28951892e-01  5.56666458e-01\n",
      " -1.28735178e+00  8.42359425e-01  2.57987448e-01 -2.74440354e-01\n",
      "  8.03401293e-01 -1.20943552e+00 -1.06658903e+00  8.81317557e-01\n",
      "  1.50464767e+00 -1.73343121e-03 -1.36526805e+00 -1.01464486e+00\n",
      "  1.85527085e+00 -6.64021672e-01 -1.47194752e-02 -3.26384530e-01\n",
      "  1.10208030e+00  9.46247777e-01 -9.23742551e-01 -1.47194752e-02\n",
      " -5.86105409e-01 -1.14450530e+00 -1.83538046e-01  4.26806019e-01\n",
      "  1.46568953e+00 -6.64021672e-01 -1.96524090e-01 -1.18607827e-01\n",
      " -1.44579915e-01 -9.49714639e-01  1.81631272e+00  3.35903711e-01\n",
      " -7.93882112e-01 -4.69231013e-01 -8.58812332e-01 -3.91314750e-01\n",
      " -1.04061695e+00 -3.00412442e-01 -1.31593871e-01 -8.06868156e-01\n",
      "  7.61828325e-02 -1.46915640e+00  5.69652502e-01  9.07289645e-01\n",
      "  1.62152206e+00 -6.89993760e-01  5.69652502e-01  6.47568766e-01\n",
      "  3.72247006e-02 -9.75686727e-01  5.04722283e-01 -1.06658903e+00\n",
      " -1.02763090e+00 -1.33929596e+00 -1.13151925e+00  1.43971745e+00\n",
      "  1.24492679e+00  1.86825690e+00  8.03401293e-01  4.26806019e-01\n",
      " -9.62700683e-01 -7.67910024e-01  1.29687096e+00 -2.77055191e-02\n",
      " -9.75686727e-01  7.25485030e-01 -9.75686727e-01 -5.73119365e-01\n",
      "  1.02154920e-01 -1.28735178e+00  8.81317557e-01  2.42386567e-02\n",
      "  1.38777327e+00 -8.06868156e-01  1.21895470e+00 -3.65342662e-01\n",
      " -1.10554717e+00 -1.04061695e+00  1.36180118e+00  1.42673140e+00\n",
      "  1.59554997e+00  3.22917667e-01 -1.05360299e+00 -1.36526805e+00\n",
      "  4.52778107e-01 -3.52356618e-01 -9.62700683e-01 -1.31332387e+00\n",
      "  1.37478723e+00  8.16387337e-01  1.95915920e+00  1.17999657e+00\n",
      " -7.93882112e-01 -2.77055191e-02  2.05006151e+00  1.12526127e-02\n",
      "  2.51755909e+00 -1.15749134e+00 -8.19854200e-01 -1.32630991e+00\n",
      " -1.46915640e+00 -6.38049585e-01  2.02408942e+00 -4.69231013e-01\n",
      " -9.26357388e-02 -1.01464486e+00 -1.39124013e+00 -4.82217057e-01\n",
      "  1.45270349e+00 -8.45826288e-01  6.47568766e-01 -3.26384530e-01\n",
      "  3.87847887e-01  1.15402448e+00 -1.11853321e+00 -7.54923980e-01\n",
      "  1.69943833e+00 -1.14450530e+00 -6.51035629e-01  6.21596678e-01\n",
      "  1.46568953e+00 -7.54923980e-01  1.01117800e+00  3.74861843e-01\n",
      "  5.02107446e-02  1.05013613e+00 -1.19644947e+00  8.68331513e-01\n",
      " -9.36728595e-01 -1.09256112e+00  2.33575448e+00  1.24492679e+00\n",
      " -8.84784420e-01  6.21596678e-01 -1.26137969e+00 -8.71798376e-01\n",
      " -8.19854200e-01 -1.57304475e+00 -3.00412442e-01 -8.97770464e-01\n",
      "  1.59554997e+00 -1.13151925e+00  5.95624590e-01  1.08909426e+00\n",
      "  1.30985701e+00 -3.65342662e-01 -1.40422618e+00  2.57987448e-01\n",
      " -4.95203101e-01 -1.31593871e-01 -5.60133321e-01  3.61875799e-01\n",
      " -1.05621783e-01  1.41113052e-01 -6.66636509e-02 -7.15965848e-01\n",
      "  8.81317557e-01  4.91736239e-01 -5.60133321e-01  5.04722283e-01\n",
      " -3.91314750e-01  1.01117800e+00  1.16701052e+00  1.24492679e+00\n",
      "  1.25791283e+00  5.17708327e-01 -2.74440354e-01  1.10208030e+00\n",
      " -9.62700683e-01 -2.22496178e-01  1.19298261e+00  6.08610634e-01\n",
      "  1.53061975e+00  1.54099096e-01 -1.04061695e+00 -7.28951892e-01\n",
      "  1.99811734e+00 -7.93882112e-01  8.03401293e-01 -7.41937936e-01\n",
      "  8.29373381e-01  1.43971745e+00  3.35903711e-01 -5.08189145e-01\n",
      "  6.21596678e-01 -1.70552003e-01 -1.70552003e-01 -8.32840244e-01\n",
      " -5.36776070e-02 -8.32840244e-01  1.17999657e+00 -1.05360299e+00\n",
      " -9.75686727e-01 -5.60133321e-01  1.55659184e+00 -1.19644947e+00\n",
      " -1.27436574e+00  8.94303601e-01 -8.06868156e-01  2.06304756e+00\n",
      "  1.67346624e+00  3.87847887e-01  2.19290800e+00 -1.22242156e+00\n",
      "  1.42673140e+00  6.99512942e-01  1.05013613e+00  1.16701052e+00\n",
      " -3.78328706e-01  1.93057228e-01 -1.15749134e+00  5.82638546e-01\n",
      " -1.05360299e+00  2.06043272e-01 -1.57565959e-01  8.42359425e-01\n",
      " -4.04300794e-01  1.07610822e+00  1.20596866e+00 -1.45617035e+00\n",
      " -1.30033783e+00 -6.25063541e-01 -2.61454310e-01 -8.32840244e-01\n",
      " -1.07957508e+00  8.68331513e-01 -1.04061695e+00  6.34582722e-01\n",
      " -5.47147277e-01 -1.31332387e+00  1.62152206e+00 -1.15749134e+00\n",
      " -4.43258925e-01 -1.07957508e+00  1.56957789e+00  1.37478723e+00\n",
      " -1.41721222e+00  5.95624590e-01  1.16701052e+00  1.03715008e+00\n",
      "  2.96945580e-01 -7.67910024e-01  2.06043272e-01  1.59554997e+00\n",
      "  1.82929877e+00  1.67346624e+00 -1.04061695e+00 -1.57565959e-01\n",
      "  4.78750195e-01  3.74861843e-01  7.38471074e-01 -2.09510134e-01\n",
      "  1.41374536e+00 -5.08189145e-01 -2.74440354e-01  2.83959536e-01\n",
      "  1.36180118e+00 -1.26137969e+00 -8.84784420e-01 -1.43019827e+00\n",
      " -7.96496949e-02  7.77429206e-01  1.05013613e+00 -7.93882112e-01\n",
      " -5.34161233e-01 -1.73343121e-03 -4.17286837e-01 -1.10554717e+00\n",
      "  2.05006151e+00 -7.54923980e-01  4.00833931e-01 -1.11853321e+00\n",
      "  2.70973492e-01 -1.04061695e+00 -1.33929596e+00 -1.14450530e+00\n",
      " -1.35228200e+00  3.35903711e-01 -6.25063541e-01 -2.61454310e-01\n",
      "  8.81317557e-01 -1.23540761e+00]\n"
     ]
    }
   ],
   "source": [
    "# Normalise the target data (this will make clearer training curves)\n",
    "print(\"Initially targets are\")\n",
    "print(targets)\n",
    "\n",
    "targets = (targets - targets.mean(axis = 0)) / targets.std()\n",
    "print(\"After normalization\")\n",
    "print(targets)"
   ]
  },
  {
   "cell_type": "code",
   "execution_count": 5,
   "metadata": {},
   "outputs": [
    {
     "name": "stdout",
     "output_type": "stream",
     "text": [
      "(397, 10)\n",
      "(45, 10)\n",
      "(397,)\n",
      "(45,)\n"
     ]
    }
   ],
   "source": [
    "# Split the data into train and test sets\n",
    "\n",
    "from sklearn.model_selection import train_test_split \n",
    "\n",
    "train_data, test_data, train_targets, test_targets = train_test_split(data, targets,test_size = 0.1)\n",
    "\n",
    "print(train_data.shape)\n",
    "print(test_data.shape)\n",
    "print(train_targets.shape)\n",
    "print(test_targets.shape)"
   ]
  },
  {
   "cell_type": "markdown",
   "metadata": {},
   "source": [
    "#### Train a feedforward neural network model"
   ]
  },
  {
   "cell_type": "code",
   "execution_count": 6,
   "metadata": {},
   "outputs": [],
   "source": [
    "# Build the model\n",
    "\n",
    "def get_model():\n",
    "    model = tf.keras.models.Sequential()\n",
    "    model.add(tf.keras.layers.Dense(units=128, activation='relu',input_shape=(train_data.shape[1],)))\n",
    "    model.add(tf.keras.layers.Dense(units=128, activation='relu'))\n",
    "    model.add(tf.keras.layers.Dense(units=128, activation='relu'))\n",
    "    model.add(tf.keras.layers.Dense(units=128, activation='relu'))\n",
    "    model.add(tf.keras.layers.Dense(units=128, activation='relu'))\n",
    "    model.add(tf.keras.layers.Dense(units=128, activation='relu'))\n",
    "    model.add(tf.keras.layers.Dense(units=1)) # default activation function is linear\n",
    "    \n",
    "    return model\n",
    "    \n",
    "model = get_model()"
   ]
  },
  {
   "cell_type": "code",
   "execution_count": 7,
   "metadata": {},
   "outputs": [
    {
     "name": "stdout",
     "output_type": "stream",
     "text": [
      "Model: \"sequential\"\n",
      "_________________________________________________________________\n",
      "Layer (type)                 Output Shape              Param #   \n",
      "=================================================================\n",
      "dense (Dense)                (None, 128)               1408      \n",
      "_________________________________________________________________\n",
      "dense_1 (Dense)              (None, 128)               16512     \n",
      "_________________________________________________________________\n",
      "dense_2 (Dense)              (None, 128)               16512     \n",
      "_________________________________________________________________\n",
      "dense_3 (Dense)              (None, 128)               16512     \n",
      "_________________________________________________________________\n",
      "dense_4 (Dense)              (None, 128)               16512     \n",
      "_________________________________________________________________\n",
      "dense_5 (Dense)              (None, 128)               16512     \n",
      "_________________________________________________________________\n",
      "dense_6 (Dense)              (None, 1)                 129       \n",
      "=================================================================\n",
      "Total params: 84,097\n",
      "Trainable params: 84,097\n",
      "Non-trainable params: 0\n",
      "_________________________________________________________________\n"
     ]
    }
   ],
   "source": [
    "# Print the model summary\n",
    "\n",
    "model.summary()"
   ]
  },
  {
   "cell_type": "code",
   "execution_count": 8,
   "metadata": {},
   "outputs": [],
   "source": [
    "# Compile the model\n",
    "\n",
    "model.compile(\n",
    "    optimizer ='adam',\n",
    "    loss = 'mae',\n",
    "    metrics = ['mae']\n",
    ")"
   ]
  },
  {
   "cell_type": "code",
   "execution_count": 9,
   "metadata": {},
   "outputs": [],
   "source": [
    "# Train the model, with some of the data reserved for validation\n",
    "\n",
    "history = model.fit(\n",
    "    train_data, \n",
    "    train_targets, \n",
    "    epochs = 100,\n",
    "    validation_split = 0.15, \n",
    "    batch_size=64,\n",
    "    verbose=False\n",
    ")"
   ]
  },
  {
   "cell_type": "code",
   "execution_count": 10,
   "metadata": {},
   "outputs": [
    {
     "name": "stdout",
     "output_type": "stream",
     "text": [
      "45/1 - 0s - loss: 0.8316 - mae: 0.7360\n"
     ]
    },
    {
     "data": {
      "text/plain": [
       "[0.7359763754738702, 0.73597634]"
      ]
     },
     "execution_count": 10,
     "metadata": {},
     "output_type": "execute_result"
    }
   ],
   "source": [
    "# Evaluate the model on the test set\n",
    "\n",
    "model.evaluate(test_data, test_targets, verbose = 2)"
   ]
  },
  {
   "cell_type": "markdown",
   "metadata": {},
   "source": [
    "#### Plot the learning curves"
   ]
  },
  {
   "cell_type": "code",
   "execution_count": 11,
   "metadata": {},
   "outputs": [],
   "source": [
    "import matplotlib.pyplot as plt\n",
    "%matplotlib inline"
   ]
  },
  {
   "cell_type": "code",
   "execution_count": 12,
   "metadata": {},
   "outputs": [
    {
     "data": {
      "image/png": "[encoded data removed]",
      "text/plain": [
       "<Figure size 432x288 with 1 Axes>"
      ]
     },
     "metadata": {
      "needs_background": "light"
     },
     "output_type": "display_data"
    }
   ],
   "source": [
    "# Plot the training and validation loss\n",
    "\n",
    "plt.plot(history.history['loss'])\n",
    "plt.plot(history.history['val_loss'])\n",
    "plt.title('Loss vs. epochs')\n",
    "plt.ylabel('Loss')\n",
    "plt.xlabel('Epoch')\n",
    "plt.legend(['Training', 'Validation'], loc='upper right')\n",
    "plt.show()"
   ]
  },
  {
   "cell_type": "markdown",
   "metadata": {},
   "source": [
    "***\n",
    "<a id=\"coding_tutorial_2\"></a>\n",
    "## Model regularisation"
   ]
  },
  {
   "cell_type": "markdown",
   "metadata": {},
   "source": [
    "#### Adding regularisation with weight decay and dropout"
   ]
  },
  {
   "cell_type": "code",
   "execution_count": 13,
   "metadata": {},
   "outputs": [],
   "source": [
    "from tensorflow.keras.models import Sequential\n",
    "from tensorflow.keras.layers import Dense\n",
    "from tensorflow.keras.layers import Dropout\n",
    "from tensorflow.keras import regularizers"
   ]
  },
  {
   "cell_type": "code",
   "execution_count": 14,
   "metadata": {},
   "outputs": [],
   "source": [
    "def get_regularised_model(wd, rate):\n",
    "    model = Sequential([\n",
    "        Dense(128, kernel_regularizer = tf.keras.regularizers.l2(wd), activation=\"relu\", input_shape=(train_data.shape[1],)),\n",
    "        Dropout(rate),\n",
    "        Dense(128, kernel_regularizer = tf.keras.regularizers.l2(wd), activation=\"relu\"),\n",
    "        Dropout(rate),\n",
    "        Dense(128, kernel_regularizer = tf.keras.regularizers.l2(wd), activation=\"relu\"),\n",
    "        Dropout(rate),\n",
    "        Dense(128, kernel_regularizer = tf.keras.regularizers.l2(wd), activation=\"relu\"),\n",
    "        Dropout(rate),\n",
    "        Dense(128, kernel_regularizer = tf.keras.regularizers.l2(wd), activation=\"relu\"),\n",
    "        Dropout(rate),\n",
    "        Dense(128, kernel_regularizer = tf.keras.regularizers.l2(wd), activation=\"relu\"),\n",
    "        Dropout(rate),\n",
    "        Dense(1)\n",
    "    ])\n",
    "    return model"
   ]
  },
  {
   "cell_type": "code",
   "execution_count": 15,
   "metadata": {},
   "outputs": [],
   "source": [
    "# Re-build the model with weight decay and dropout layers\n",
    "\n",
    "model = get_regularised_model(1e-5, 0.3)"
   ]
  },
  {
   "cell_type": "code",
   "execution_count": 16,
   "metadata": {},
   "outputs": [],
   "source": [
    "# Compile the model\n",
    "\n",
    "model.compile(\n",
    "    optimzier = 'adam',\n",
    "    loss = 'mae',\n",
    "    metrics = ['mae']\n",
    ")"
   ]
  },
  {
   "cell_type": "code",
   "execution_count": 17,
   "metadata": {},
   "outputs": [],
   "source": [
    "# Train the model, with some of the data reserved for validation\n",
    "\n",
    "history = model.fit(train_data, train_targets, epochs = 100, verbose = False, validation_split = 0.15, batch_size = 64)"
   ]
  },
  {
   "cell_type": "code",
   "execution_count": 18,
   "metadata": {},
   "outputs": [
    {
     "name": "stdout",
     "output_type": "stream",
     "text": [
      "45/1 - 0s - loss: 0.7118 - mae: 0.6028\n"
     ]
    },
    {
     "data": {
      "text/plain": [
       "[0.6081350525220235, 0.60276043]"
      ]
     },
     "execution_count": 18,
     "metadata": {},
     "output_type": "execute_result"
    }
   ],
   "source": [
    "# Evaluate the model on the test set\n",
    "\n",
    "model.evaluate(test_data, test_targets, verbose = 2)"
   ]
  },
  {
   "cell_type": "markdown",
   "metadata": {},
   "source": [
    "#### Plot the learning curves"
   ]
  },
  {
   "cell_type": "code",
   "execution_count": 19,
   "metadata": {},
   "outputs": [
    {
     "data": {
      "image/png": "[encoded data removed]",
      "text/plain": [
       "<Figure size 432x288 with 1 Axes>"
      ]
     },
     "metadata": {
      "needs_background": "light"
     },
     "output_type": "display_data"
    }
   ],
   "source": [
    "# Plot the training and validation loss\n",
    "\n",
    "import matplotlib.pyplot as plt\n",
    "\n",
    "plt.plot(history.history['loss'])\n",
    "plt.plot(history.history['val_loss'])\n",
    "plt.title('Loss vs. epochs')\n",
    "plt.ylabel('Loss')\n",
    "plt.xlabel('Epoch')\n",
    "plt.legend(['Training', 'Validation'], loc='upper right')\n",
    "plt.show()"
   ]
  },
  {
   "cell_type": "markdown",
   "metadata": {},
   "source": [
    "***\n",
    "<a id=\"coding_tutorial_3\"></a>\n",
    "## Introduction to callbacks"
   ]
  },
  {
   "cell_type": "markdown",
   "metadata": {},
   "source": [
    "#### Example training callback"
   ]
  },
  {
   "cell_type": "code",
   "execution_count": 20,
   "metadata": {},
   "outputs": [],
   "source": [
    "# Write a custom callback\n",
    "from tensorflow.keras.callbacks import Callback\n",
    "\n",
    "class trainingCallback(Callback):\n",
    "    \n",
    "    def on_train_begin(self, logs = None):\n",
    "        print(\"Starting training\")\n",
    "        \n",
    "    def on_epoch_begin(self, epoch, logs = None):\n",
    "        print(f'Starting epoch {epoch}')\n",
    "        \n",
    "    def on_train_batch_begin(self, batch, logs = None):\n",
    "        print(f'Training: Starting batch {batch}')\n",
    "        \n",
    "    def on_train_batch_end(self, batch, logs = None):\n",
    "        print(f'Training: Finished batch {batch}')\n",
    "        \n",
    "    def on_epoch_end(self, epoch, logs = None):\n",
    "        print(f'Training: Finished epoch {epoch}')\n",
    "        \n",
    "    def on_train_end(self, logs = None):\n",
    "        print(\"Finished Trainging\")\n"
   ]
  },
  {
   "cell_type": "code",
   "execution_count": 21,
   "metadata": {},
   "outputs": [],
   "source": [
    "class testingCallback(Callback):\n",
    "    \n",
    "    def on_test_begin(self, logs = None):\n",
    "        print(\"Starting testing\")\n",
    "        \n",
    "    def on_epoch_begin(self, epoch, logs = None):\n",
    "        print(f'Starting epoch {epoch}')\n",
    "        \n",
    "    def on_test_batch_begin(self, batch, logs = None):\n",
    "        print(f'Testing: Starting batch {batch}')\n",
    "        \n",
    "    def on_test_batch_end(self, batch, logs = None):\n",
    "        print(f'Testing: Finished batch {batch}')\n",
    "        \n",
    "    def on_epoch_end(self, epoch, logs = None):\n",
    "        print(f'Testing: Finished epoch {epoch}')\n",
    "        \n",
    "    def on_test_end(self, logs = None):\n",
    "        print(\"Finished Testing\")"
   ]
  },
  {
   "cell_type": "code",
   "execution_count": 22,
   "metadata": {},
   "outputs": [],
   "source": [
    "class predictionCallback(Callback):\n",
    "    \n",
    "    def on_predict_begin(self, logs = None):\n",
    "        print(\"Starting prediction\")\n",
    "        \n",
    "        \n",
    "    def on_predic_batch_begin(self, batch, logs = None):\n",
    "        print(f'Prediction: Starting batch {batch}')\n",
    "        \n",
    "    def on_predict_batch_end(self, batch, logs = None):\n",
    "        print(f'Prediction: Finished batch {batch}')\n",
    "   \n",
    "        \n",
    "    def on_predict_end(self, logs = None):\n",
    "        print(\"Finished Prediction\")"
   ]
  },
  {
   "cell_type": "code",
   "execution_count": 23,
   "metadata": {},
   "outputs": [],
   "source": [
    "# Re-build the model\n",
    "\n",
    "model = get_regularised_model(1e-5, 0.3)\n"
   ]
  },
  {
   "cell_type": "code",
   "execution_count": 24,
   "metadata": {},
   "outputs": [],
   "source": [
    "# Compile the model\n",
    "\n",
    "model.compile(\n",
    "    optimzer = 'adam',\n",
    "    loss = 'mae',\n",
    "    metrics = ['mae']\n",
    ")"
   ]
  },
  {
   "cell_type": "markdown",
   "metadata": {},
   "source": [
    "#### Train the model with the callback"
   ]
  },
  {
   "cell_type": "code",
   "execution_count": 25,
   "metadata": {},
   "outputs": [
    {
     "name": "stdout",
     "output_type": "stream",
     "text": [
      "Starting training\n",
      "Starting epoch 0\n",
      "Training: Starting batch 0\n",
      "Training: Finished batch 0\n",
      "Training: Starting batch 1\n",
      "Training: Finished batch 1\n",
      "Training: Starting batch 2\n",
      "Training: Finished batch 2\n",
      "Training: Starting batch 3\n",
      "Training: Finished batch 3\n",
      "Training: Finished epoch 0\n",
      "Starting epoch 1\n",
      "Training: Starting batch 0\n",
      "Training: Finished batch 0\n",
      "Training: Starting batch 1\n",
      "Training: Finished batch 1\n",
      "Training: Starting batch 2\n",
      "Training: Finished batch 2\n",
      "Training: Starting batch 3\n",
      "Training: Finished batch 3\n",
      "Training: Finished epoch 1\n",
      "Starting epoch 2\n",
      "Training: Starting batch 0\n",
      "Training: Finished batch 0\n",
      "Training: Starting batch 1\n",
      "Training: Finished batch 1\n",
      "Training: Starting batch 2\n",
      "Training: Finished batch 2\n",
      "Training: Starting batch 3\n",
      "Training: Finished batch 3\n",
      "Training: Finished epoch 2\n",
      "Finished Trainging\n"
     ]
    }
   ],
   "source": [
    "# Train the model, with some of the data reserved for validation\n",
    "\n",
    "history = model.fit(train_data, train_targets, epochs = 3, batch_size = 128, verbose = False, callbacks = [trainingCallback()])"
   ]
  },
  {
   "cell_type": "code",
   "execution_count": 26,
   "metadata": {},
   "outputs": [
    {
     "name": "stdout",
     "output_type": "stream",
     "text": [
      "Starting testing\n",
      "Testing: Starting batch 0\n",
      "Testing: Finished batch 0\n",
      "Testing: Starting batch 1\n",
      "Testing: Finished batch 1\n",
      "Finished Testing\n"
     ]
    },
    {
     "data": {
      "text/plain": [
       "[0.7423178500599331, 0.73582715]"
      ]
     },
     "execution_count": 26,
     "metadata": {},
     "output_type": "execute_result"
    }
   ],
   "source": [
    "# Evaluate the model\n",
    "\n",
    "model.evaluate(test_data, test_targets, callbacks = [testingCallback()], verbose = False)"
   ]
  },
  {
   "cell_type": "code",
   "execution_count": 27,
   "metadata": {},
   "outputs": [
    {
     "name": "stdout",
     "output_type": "stream",
     "text": [
      "Starting prediction\n",
      "Prediction: Finished batch 0\n",
      "Prediction: Finished batch 1\n",
      "Finished Prediction\n"
     ]
    },
    {
     "data": {
      "text/plain": [
       "array([[-0.06776835],\n",
       "       [-0.09832036],\n",
       "       [-0.5989321 ],\n",
       "       [-0.6080872 ],\n",
       "       [ 0.11921929],\n",
       "       [ 0.14933214],\n",
       "       [-0.38081428],\n",
       "       [-0.60047215],\n",
       "       [-0.34909806],\n",
       "       [-0.17002481],\n",
       "       [-0.47084615],\n",
       "       [-0.05338935],\n",
       "       [ 0.18413073],\n",
       "       [ 0.14161347],\n",
       "       [ 0.20452605],\n",
       "       [ 0.01703582],\n",
       "       [-0.44147506],\n",
       "       [ 0.02581068],\n",
       "       [ 0.1945381 ],\n",
       "       [ 0.02439406],\n",
       "       [ 0.19180197],\n",
       "       [ 0.21561275],\n",
       "       [ 0.22416043],\n",
       "       [-0.5452918 ],\n",
       "       [ 0.11309009],\n",
       "       [-0.31546092],\n",
       "       [-0.26755202],\n",
       "       [ 0.11593222],\n",
       "       [ 0.1327346 ],\n",
       "       [-0.57995534],\n",
       "       [-0.52703947],\n",
       "       [ 0.14860915],\n",
       "       [-0.22897461],\n",
       "       [-0.44326437],\n",
       "       [ 0.1559924 ],\n",
       "       [ 0.1964733 ],\n",
       "       [-0.72632205],\n",
       "       [ 0.1547051 ],\n",
       "       [-0.63929033],\n",
       "       [ 0.16402878],\n",
       "       [ 0.17068036],\n",
       "       [ 0.17126563],\n",
       "       [ 0.10523053],\n",
       "       [-0.5638586 ],\n",
       "       [ 0.13669662]], dtype=float32)"
      ]
     },
     "execution_count": 27,
     "metadata": {},
     "output_type": "execute_result"
    }
   ],
   "source": [
    "# Make predictions with the model\n",
    "\n",
    "model.predict(test_data, verbose = False, callbacks = [predictionCallback()])"
   ]
  },
  {
   "cell_type": "markdown",
   "metadata": {},
   "source": [
    "***\n",
    "<a id=\"coding_tutorial_4\"></a>\n",
    "## Early stopping / patience"
   ]
  },
  {
   "cell_type": "markdown",
   "metadata": {},
   "source": [
    "#### Re-train the models with early stopping"
   ]
  },
  {
   "cell_type": "code",
   "execution_count": 41,
   "metadata": {},
   "outputs": [],
   "source": [
    "# Re-train the unregularised model\n",
    "\n",
    "unregularised_model = get_model()\n",
    "unregularised_model.compile(\n",
    "    optimizer = 'adam',\n",
    "    loss = 'mae'\n",
    ")\n",
    "unreg_history = unregularised_model.fit(\n",
    "    train_data, \n",
    "    train_targets,\n",
    "    epochs = 100,\n",
    "    validation_split = 0.15,\n",
    "    batch_size = 64, \n",
    "    verbose = False,\n",
    "    callbacks = [tf.keras.callbacks.EarlyStopping(patience=4)]\n",
    ")"
   ]
  },
  {
   "cell_type": "code",
   "execution_count": 42,
   "metadata": {},
   "outputs": [
    {
     "name": "stdout",
     "output_type": "stream",
     "text": [
      "45/1 - 0s - loss: 0.7615\n"
     ]
    },
    {
     "data": {
      "text/plain": [
       "0.6358941396077474"
      ]
     },
     "execution_count": 42,
     "metadata": {},
     "output_type": "execute_result"
    }
   ],
   "source": [
    "# Evaluate the model on the test set\n",
    "\n",
    "unregularised_model.evaluate(\n",
    "    test_data,\n",
    "    test_targets, \n",
    "    verbose = 2\n",
    ")"
   ]
  },
  {
   "cell_type": "code",
   "execution_count": 43,
   "metadata": {},
   "outputs": [],
   "source": [
    "# Re-train the regularised model\n",
    "\n",
    "regularised_model = get_regularised_model(1e-5, 0.2)\n",
    "regularised_model.compile(\n",
    "    optimizer = 'adam',\n",
    "    loss = 'mae'\n",
    ")\n",
    "reg_history = regularised_model.fit(\n",
    "    train_data, \n",
    "    train_targets,\n",
    "    epochs = 100,\n",
    "    validation_split = 0.15,\n",
    "    batch_size = 64, \n",
    "    verbose = False,\n",
    "    callbacks = [tf.keras.callbacks.EarlyStopping(patience=4)]\n",
    ")"
   ]
  },
  {
   "cell_type": "code",
   "execution_count": 44,
   "metadata": {},
   "outputs": [
    {
     "name": "stdout",
     "output_type": "stream",
     "text": [
      "45/1 - 0s - loss: 0.7344\n"
     ]
    },
    {
     "data": {
      "text/plain": [
       "0.62706821097268"
      ]
     },
     "execution_count": 44,
     "metadata": {},
     "output_type": "execute_result"
    }
   ],
   "source": [
    "# Evaluate the model on the test set\n",
    "\n",
    "regularised_model.evaluate(\n",
    "    test_data, \n",
    "    test_targets,\n",
    "    verbose = 2\n",
    ")"
   ]
  },
  {
   "cell_type": "markdown",
   "metadata": {},
   "source": [
    "#### Plot the learning curves"
   ]
  },
  {
   "cell_type": "code",
   "execution_count": 45,
   "metadata": {},
   "outputs": [
    {
     "data": {
      "image/png": "[encoded data removed]",
      "text/plain": [
       "<Figure size 864x360 with 2 Axes>"
      ]
     },
     "metadata": {
      "needs_background": "light"
     },
     "output_type": "display_data"
    }
   ],
   "source": [
    "# Plot the training and validation loss\n",
    "\n",
    "import matplotlib.pyplot as plt\n",
    "\n",
    "fig = plt.figure(figsize=(12, 5))\n",
    "\n",
    "fig.add_subplot(121)\n",
    "\n",
    "plt.plot(unreg_history.history['loss'])\n",
    "plt.plot(unreg_history.history['val_loss'])\n",
    "plt.title('Unregularised model: loss vs. epochs')\n",
    "plt.ylabel('Loss')\n",
    "plt.xlabel('Epoch')\n",
    "plt.legend(['Training', 'Validation'], loc='upper right')\n",
    "\n",
    "fig.add_subplot(122)\n",
    "\n",
    "plt.plot(reg_history.history['loss'])\n",
    "plt.plot(reg_history.history['val_loss'])\n",
    "plt.title('Regularised model: loss vs. epochs')\n",
    "plt.ylabel('Loss')\n",
    "plt.xlabel('Epoch')\n",
    "plt.legend(['Training', 'Validation'], loc='upper right')\n",
    "\n",
    "plt.show()"
   ]
  },
  {
   "cell_type": "code",
   "execution_count": null,
   "metadata": {},
   "outputs": [],
   "source": []
  }
 ],
 "metadata": {
  "kernelspec": {
   "display_name": "Python 3",
   "language": "python",
   "name": "python3"
  },
  "language_info": {
   "codemirror_mode": {
    "name": "ipython",
    "version": 3
   },
   "file_extension": ".py",
   "mimetype": "text/x-python",
   "name": "python",
   "nbconvert_exporter": "python",
   "pygments_lexer": "ipython3",
   "version": "3.7.1"
  }
 },
 "nbformat": 4,
 "nbformat_minor": 2
}
